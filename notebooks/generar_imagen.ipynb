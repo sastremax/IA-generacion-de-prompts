{
 "cells": [
  {
   "cell_type": "code",
   "execution_count": null,
   "id": "d2b093eb",
   "metadata": {},
   "outputs": [],
   "source": [
    "import openai\n",
    "openai.api_key = \"xxxxxxxxxxxxxxxxxxxxxxxxxxxxxx\"\n",
    "\n",
    "def generar_imagen(prompt, n=1, size=\"1024x1024\"):\n",
    "    response = openai.Image.create(\n",
    "        prompt=prompt,\n",
    "        n=n, \n",
    "        size=size \n",
    "    )\n",
    "    return response['data'][0]['url']\n",
    "\n",
    "prompt = \"generar imagen fotorrealista de un consultorio con paredes completamente vacías. Equipado para terapia cognitiva conductual para niños\"\n",
    "\n",
    "imagen_url = generar_imagen(prompt)\n",
    "\n",
    "print(\"URL de la imagen generada:\", imagen_url)"
   ]
  }
 ],
 "metadata": {
  "kernelspec": {
   "display_name": "Python 3 (ipykernel)",
   "language": "python",
   "name": "python3"
  },
  "language_info": {
   "codemirror_mode": {
    "name": "ipython",
    "version": 3
   },
   "file_extension": ".py",
   "mimetype": "text/x-python",
   "name": "python",
   "nbconvert_exporter": "python",
   "pygments_lexer": "ipython3",
   "version": "3.10.14"
  }
 },
 "nbformat": 4,
 "nbformat_minor": 5
}
