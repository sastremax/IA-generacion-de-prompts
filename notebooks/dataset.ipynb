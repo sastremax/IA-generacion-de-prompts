{
 "cells": [
  {
   "cell_type": "code",
   "execution_count": 2,
   "id": "3575e614-f96e-4240-b290-c9f9b4d97d41",
   "metadata": {},
   "outputs": [],
   "source": [
    "import openai\n",
    "import pandas as pd"
   ]
  },
  {
   "cell_type": "code",
   "execution_count": 3,
   "id": "037f084d-d3a7-406f-9f93-6ed3423316a9",
   "metadata": {},
   "outputs": [],
   "source": [
    "openai.api_key ='xxxxxxxxxxxxxxxxxxxxxxxx'"
   ]
  },
  {
   "cell_type": "code",
   "execution_count": 4,
   "id": "5c6d7d53-d869-4e65-a3ae-3bd628570003",
   "metadata": {},
   "outputs": [],
   "source": [
    "descripciones = []"
   ]
  },
  {
   "cell_type": "code",
   "execution_count": 5,
   "id": "b5b15b5b-e142-4bd3-9e81-f81d1ab942e9",
   "metadata": {},
   "outputs": [
    {
     "name": "stdout",
     "output_type": "stream",
     "text": [
      "¿Qué tipo de profesional de la salud estás buscando? (por ejemplo, psicóloga, psicopedagoga, fonoaudióloga, terapista ocupacional)  psicóloga\n",
      "¿Qué tipo de experiencia es relevante para el puesto? (por ejemplo, experiencia en autismo)  experiencia en autismo\n"
     ]
    },
    {
     "name": "stdout",
     "output_type": "stream",
     "text": [
      "Prompt creado para la descripción de empleo: Generar una descripción de empleo para un puesto de psicóloga en un consultorio médico. El profesional debe tener experiencia en autismo. La descripción debe ser atractiva, inclusiva y detallada, destacando la importancia de la especialización en terapia cognitiva conductual. También se deben mencionar los beneficios del puesto y el impacto positivo en la vida de los niños con autismo y sus familias.\n",
      "Descripción de empleo generada:\n",
      "¡Claro! Aquí tienes una descripción de empleo para el puesto de psicóloga en un consultorio médico, con énfasis en la experiencia en autismo y la terapia cognitiva conductual:\n",
      "\n",
      "---\n",
      "\n",
      "**Descripción del Puesto: Psicóloga Especializada en Autismo**\n",
      "\n",
      "En nuestro prestigioso consultorio médico, estamos en busca de una psicóloga altamente cualificada y especializada en autismo para unirse a nuestro equipo multidisciplinario. Valoramos la dedicación y el compromiso de brindar una atención integral a los niños con trastorno del espectro autista y a sus familias, y creemos firmemente en el impacto positivo que puede tener un profesional especializado en esta área.\n",
      "\n",
      "**Responsabilidades Principales:**\n",
      "\n",
      "- Realizar evaluaciones psicológicas completas para niños con autismo, identificando sus necesidades y fortalezas.\n",
      "- Diseñar e implementar planes de intervención individuales basados en terapia cognitiva conductual, adaptados a las necesidades únicas de cada niño.\n",
      "- Colaborar estrechamente con\n"
     ]
    },
    {
     "name": "stdout",
     "output_type": "stream",
     "text": [
      "¿Deseas generar otra descripción? (s/n):  s\n",
      "¿Qué tipo de profesional de la salud estás buscando? (por ejemplo, psicóloga, psicopedagoga, fonoaudióloga, terapista ocupacional)  fonoaudióloga\n",
      "¿Qué tipo de experiencia es relevante para el puesto? (por ejemplo, experiencia en autismo)  con conocimiento neurolinguistico\n"
     ]
    },
    {
     "name": "stdout",
     "output_type": "stream",
     "text": [
      "Prompt creado para la descripción de empleo: Generar una descripción de empleo para un puesto de fonoaudióloga en un consultorio médico. El profesional debe tener con conocimiento neurolinguistico. La descripción debe ser atractiva, inclusiva y detallada, destacando la importancia de la especialización en terapia cognitiva conductual. También se deben mencionar los beneficios del puesto y el impacto positivo en la vida de los niños con autismo y sus familias.\n",
      "Descripción de empleo generada:\n",
      "¡Claro! Aquí tienes una descripción de empleo para un puesto de fonoaudióloga en un consultorio médico:\n",
      "\n",
      "---\n",
      "\n",
      "**Descripción del trabajo:**\n",
      "En nuestro consultorio médico, buscamos incorporar a nuestro equipo a una Fonoaudióloga con un enfoque especializado en conocimiento neurolinguístico. Esta posición es fundamental para brindar una atención integral a niños con autismo y sus familias, ya que desempeñará un papel crucial en el desarrollo del lenguaje y la comunicación de estos pequeños.\n",
      "\n",
      "**Responsabilidades:**\n",
      "- Realizar evaluaciones fonoaudiológicas completas para determinar las necesidades individuales de cada niño con autismo.\n",
      "- Diseñar y llevar a cabo planes de intervención personalizados, incorporando terapia cognitiva conductual para potenciar el desarrollo del lenguaje y la comunicación.\n",
      "- Trabajar en estrecha colaboración con otros profesionales de la salud, familias y cuidadores para garantizar un enfoque holístico en el tratamiento.\n",
      "\n",
      "**Requisitos:**\n",
      "- Título en Fonoaudiología con especialización\n"
     ]
    },
    {
     "name": "stdout",
     "output_type": "stream",
     "text": [
      "¿Deseas generar otra descripción? (s/n):  s\n",
      "¿Qué tipo de profesional de la salud estás buscando? (por ejemplo, psicóloga, psicopedagoga, fonoaudióloga, terapista ocupacional)  terapista ocupacional\n",
      "¿Qué tipo de experiencia es relevante para el puesto? (por ejemplo, experiencia en autismo)  experiencia con niños: sensorial\n"
     ]
    },
    {
     "name": "stdout",
     "output_type": "stream",
     "text": [
      "Prompt creado para la descripción de empleo: Generar una descripción de empleo para un puesto de terapista ocupacional en un consultorio médico. El profesional debe tener experiencia con niños: sensorial. La descripción debe ser atractiva, inclusiva y detallada, destacando la importancia de la especialización en terapia cognitiva conductual. También se deben mencionar los beneficios del puesto y el impacto positivo en la vida de los niños con autismo y sus familias.\n",
      "Descripción de empleo generada:\n",
      "¡Claro! Aquí tienes una descripción de empleo para el puesto de terapista ocupacional en un consultorio médico:\n",
      "\n",
      "---\n",
      "\n",
      "**DESCRIPCIÓN DEL PUESTO: Terapista Ocupacional Especializado en Niños - Sensorial**\n",
      "\n",
      "**Descripción del trabajo:**\n",
      "En nuestro consultorio médico, buscamos un terapista ocupacional dedicado y apasionado, con experiencia en trabajar con niños con necesidades sensoriales. Este profesional desempeñará un papel crucial en el desarrollo y el bienestar de los niños, especialmente aquellos con autismo, mediante la implementación de estrategias de terapia cognitiva conductual.\n",
      "\n",
      "**Responsabilidades principales:**\n",
      "- Evaluar las necesidades sensoriales y cognitivas de los niños y diseñar planes de tratamiento personalizados.\n",
      "- Implementar técnicas terapéuticas basadas en la terapia cognitiva conductual para abordar desafíos específicos y promover el desarrollo integral.\n",
      "- Trabajar en colaboración con otros profesionales de la salud para garantizar una atención integral y coordinada.\n",
      "- Proporcionar orientación y apoyo a las familias\n"
     ]
    },
    {
     "name": "stdout",
     "output_type": "stream",
     "text": [
      "¿Deseas generar otra descripción? (s/n):  s\n",
      "¿Qué tipo de profesional de la salud estás buscando? (por ejemplo, psicóloga, psicopedagoga, fonoaudióloga, terapista ocupacional)  psicopedagoga\n",
      "¿Qué tipo de experiencia es relevante para el puesto? (por ejemplo, experiencia en autismo)  experiencia con niños TEA\n"
     ]
    },
    {
     "name": "stdout",
     "output_type": "stream",
     "text": [
      "Prompt creado para la descripción de empleo: Generar una descripción de empleo para un puesto de psicopedagoga en un consultorio médico. El profesional debe tener experiencia con niños TEA. La descripción debe ser atractiva, inclusiva y detallada, destacando la importancia de la especialización en terapia cognitiva conductual. También se deben mencionar los beneficios del puesto y el impacto positivo en la vida de los niños con autismo y sus familias.\n",
      "Descripción de empleo generada:\n",
      "¡Claro! Aquí tienes una propuesta de descripción de empleo para un puesto de psicopedagoga en un consultorio médico que trabaje con niños con Trastorno del Espectro Autista (TEA):\n",
      "\n",
      "---\n",
      "\n",
      "**Descripción del puesto: Psicopedagoga Especializada en TEA**\n",
      "\n",
      "En nuestro consultorio médico, estamos en búsqueda de una psicopedagoga apasionada y especializada en el trabajo con niños que presentan Trastorno del Espectro Autista (TEA). Buscamos un profesional comprometido con el bienestar de estos niños y sus familias, capaz de brindarles una atención integral y personalizada que promueva su desarrollo y calidad de vida.\n",
      "\n",
      "**Responsabilidades principales:**\n",
      "\n",
      "- Realizar evaluaciones psicopedagógicas para identificar las necesidades y fortalezas de cada niño con TEA.\n",
      "- Diseñar e implementar planes de intervención educativa y terapéutica adaptados a las necesidades individuales de cada niño.\n",
      "- Trabajar en estrecha colaboración con el equipo multidisciplinario del consultorio, incluidos méd\n"
     ]
    },
    {
     "name": "stdout",
     "output_type": "stream",
     "text": [
      "¿Deseas generar otra descripción? (s/n):  n\n"
     ]
    },
    {
     "name": "stdout",
     "output_type": "stream",
     "text": [
      "Dataset creado:\n",
      "               Profesión                        Experiencia  \\\n",
      "0              psicóloga             experiencia en autismo   \n",
      "1          fonoaudióloga  con conocimiento neurolinguistico   \n",
      "2  terapista ocupacional   experiencia con niños: sensorial   \n",
      "3          psicopedagoga          experiencia con niños TEA   \n",
      "\n",
      "                                         Descripción  \n",
      "0  ¡Claro! Aquí tienes una descripción de empleo ...  \n",
      "1  ¡Claro! Aquí tienes una descripción de empleo ...  \n",
      "2  ¡Claro! Aquí tienes una descripción de empleo ...  \n",
      "3  ¡Claro! Aquí tienes una propuesta de descripci...  \n"
     ]
    }
   ],
   "source": [
    "def obtener_datos_usuario():\n",
    "    profesion = input(\"¿Qué tipo de profesional de la salud estás buscando? (por ejemplo, psicóloga, psicopedagoga, fonoaudióloga, terapista ocupacional) \")\n",
    "    experiencia = input(\"¿Qué tipo de experiencia es relevante para el puesto? (por ejemplo, experiencia en autismo) \")\n",
    "    if profesion.lower() == 'esc':\n",
    "        return None, None\n",
    "    return profesion, experiencia\n",
    "\n",
    "# Función para crear el prompt de la descripción\n",
    "def crear_prompt_descripcion(profesion, experiencia):\n",
    "    prompt = (\n",
    "        f\"Generar una descripción de empleo para un puesto de {profesion} en un consultorio médico. \"\n",
    "        f\"El profesional debe tener {experiencia}. \"\n",
    "        f\"La descripción debe ser atractiva, inclusiva y detallada, destacando la importancia de la especialización \"\n",
    "        f\"en terapia cognitiva conductual. También se deben mencionar los beneficios del puesto y el impacto positivo \"\n",
    "        f\"en la vida de los niños con autismo y sus familias.\"\n",
    "    )\n",
    "    return prompt\n",
    "\n",
    "# Función para generar la descripción a través de la API de OpenAI\n",
    "def generar_descripcion(prompt):\n",
    "    try:\n",
    "        response = openai.ChatCompletion.create(\n",
    "            model=\"gpt-3.5-turbo\",\n",
    "            messages=[\n",
    "                {\"role\": \"system\", \"content\": \"System message introducing the chat\"},\n",
    "                {\"role\": \"user\", \"content\": prompt}\n",
    "            ],\n",
    "            max_tokens=250\n",
    "        )\n",
    "        return response['choices'][0]['message']['content']\n",
    "    except openai.error.OpenAIError as e:\n",
    "        print(\"Error al generar la descripción:\", e)\n",
    "        return None\n",
    "\n",
    "# Bucle para generar las descripciones y guardarlas en el dataset\n",
    "while True:\n",
    "    # Paso 1: Obtener datos del usuario\n",
    "    profesion, experiencia = obtener_datos_usuario()\n",
    "    if profesion is None:\n",
    "        print(\"Saliendo del programa...\")\n",
    "        break\n",
    "    \n",
    "    # Paso 2: Crear el prompt para la descripción de empleo\n",
    "    prompt_descripcion = crear_prompt_descripcion(profesion, experiencia)\n",
    "    print(\"Prompt creado para la descripción de empleo:\", prompt_descripcion)\n",
    "    \n",
    "    # Paso 3: Generar la descripción de empleo\n",
    "    descripcion_empleo = generar_descripcion(prompt_descripcion)\n",
    "    if descripcion_empleo:\n",
    "        print(\"Descripción de empleo generada:\")\n",
    "        print(descripcion_empleo)\n",
    "        \n",
    "        # Paso 4: Agregar la descripción al dataset\n",
    "        descripciones.append({\n",
    "            \"Profesión\": profesion,\n",
    "            \"Experiencia\": experiencia,\n",
    "            \"Descripción\": descripcion_empleo\n",
    "        })\n",
    "        \n",
    "    # Preguntar si desea continuar\n",
    "    continuar = input(\"¿Deseas generar otra descripción? (s/n): \")\n",
    "    if continuar.lower() != 's':\n",
    "        break\n",
    "\n",
    "# Crear un DataFrame con las descripciones recolectadas\n",
    "df = pd.DataFrame(descripciones)\n",
    "\n",
    "# Guardar el DataFrame en un archivo CSV (opcional)\n",
    "df.to_csv(\"descripciones_empleo.csv\", index=False)\n",
    "\n",
    "print(\"Dataset creado:\")\n",
    "print(df)"
   ]
  },
  {
   "cell_type": "code",
   "execution_count": 6,
   "id": "16d7082b-647e-485e-91cd-36ab1aefa1d2",
   "metadata": {},
   "outputs": [
    {
     "name": "stdout",
     "output_type": "stream",
     "text": [
      "Dataset creado y guardado en descripciones_empleo.csv\n",
      "               Profesión                        Experiencia  \\\n",
      "0              psicóloga             experiencia en autismo   \n",
      "1          fonoaudióloga  con conocimiento neurolinguistico   \n",
      "2  terapista ocupacional   experiencia con niños: sensorial   \n",
      "3          psicopedagoga          experiencia con niños TEA   \n",
      "\n",
      "                                         Descripción  \n",
      "0  ¡Claro! Aquí tienes una descripción de empleo ...  \n",
      "1  ¡Claro! Aquí tienes una descripción de empleo ...  \n",
      "2  ¡Claro! Aquí tienes una descripción de empleo ...  \n",
      "3  ¡Claro! Aquí tienes una propuesta de descripci...  \n"
     ]
    }
   ],
   "source": [
    "df = pd.DataFrame(descripciones)\n",
    "\n",
    "df.to_csv(\"descripciones_empleo.csv\", index=False)\n",
    "\n",
    "print(\"Dataset creado y guardado en descripciones_empleo.csv\")\n",
    "print(df)"
   ]
  },
  {
   "cell_type": "code",
   "execution_count": null,
   "id": "092a7ff8-2a74-4885-ba82-00d1a54e3931",
   "metadata": {},
   "outputs": [],
   "source": []
  }
 ],
 "metadata": {
  "kernelspec": {
   "display_name": "Python 3 (ipykernel)",
   "language": "python",
   "name": "python3"
  },
  "language_info": {
   "codemirror_mode": {
    "name": "ipython",
    "version": 3
   },
   "file_extension": ".py",
   "mimetype": "text/x-python",
   "name": "python",
   "nbconvert_exporter": "python",
   "pygments_lexer": "ipython3",
   "version": "3.10.14"
  }
 },
 "nbformat": 4,
 "nbformat_minor": 5
}
