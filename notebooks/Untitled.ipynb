{
 "cells": [
  {
   "cell_type": "code",
   "execution_count": 1,
   "id": "af6aa00d-4504-453f-ac4b-8413b0e9a2ae",
   "metadata": {},
   "outputs": [
    {
     "name": "stdout",
     "output_type": "stream",
     "text": [
      "C:\\Windows\\system32\n"
     ]
    }
   ],
   "source": [
    "import os\n",
    "print(os.getcwd())\n"
   ]
  },
  {
   "cell_type": "code",
   "execution_count": 2,
   "id": "446f7d48-b317-49e3-b523-0698d2bd24e4",
   "metadata": {},
   "outputs": [
    {
     "ename": "ImportError",
     "evalue": "cannot import name 'PandasAI' from 'pandasai' (B:\\miniconda\\envs\\mi_entorno\\lib\\site-packages\\pandasai\\__init__.py)",
     "output_type": "error",
     "traceback": [
      "\u001b[1;31m---------------------------------------------------------------------------\u001b[0m",
      "\u001b[1;31mImportError\u001b[0m                               Traceback (most recent call last)",
      "Cell \u001b[1;32mIn[2], line 2\u001b[0m\n\u001b[0;32m      1\u001b[0m \u001b[38;5;28;01mimport\u001b[39;00m \u001b[38;5;21;01mpandas\u001b[39;00m \u001b[38;5;28;01mas\u001b[39;00m \u001b[38;5;21;01mpd\u001b[39;00m\n\u001b[1;32m----> 2\u001b[0m \u001b[38;5;28;01mfrom\u001b[39;00m \u001b[38;5;21;01mpandasai\u001b[39;00m \u001b[38;5;28;01mimport\u001b[39;00m PandasAI\n\u001b[0;32m      3\u001b[0m \u001b[38;5;28;01mfrom\u001b[39;00m \u001b[38;5;21;01mpandasai\u001b[39;00m\u001b[38;5;21;01m.\u001b[39;00m\u001b[38;5;21;01mllm\u001b[39;00m\u001b[38;5;21;01m.\u001b[39;00m\u001b[38;5;21;01mopenai\u001b[39;00m \u001b[38;5;28;01mimport\u001b[39;00m OpenAI\n\u001b[0;32m      5\u001b[0m \u001b[38;5;66;03m# Configura tu clave API de OpenAI\u001b[39;00m\n",
      "\u001b[1;31mImportError\u001b[0m: cannot import name 'PandasAI' from 'pandasai' (B:\\miniconda\\envs\\mi_entorno\\lib\\site-packages\\pandasai\\__init__.py)"
     ]
    }
   ],
   "source": [
    "import pandas as pd\n",
    "from pandasai import PandasAI\n",
    "from pandasai.llm.openai import OpenAI\n",
    "\n",
    "openai_api_key = 'xxxxxxxxxxxxxxxxxxxxxxxxxxxxxxxxxxxxxxxxx'  \n",
    "\n",
    "llm = OpenAI(api_token=openai_api_key)\n",
    "pandas_ai = PandasAI(llm)\n",
    "\n",
    "# Cargar el dataset desde el CSV\n",
    "df = pd.read_csv(\"descripciones_empleo.csv\")\n",
    "\n",
    "# Recorrer cada fila del DataFrame y generar imágenes\n",
    "for index, row in df.iterrows():\n",
    "    prompt = f\"Generar una imagen que represente esta descripción de empleo: {row['Descripción']}\"\n",
    "    \n",
    "    # Generar la imagen usando PandasAI\n",
    "    response = pandas_ai.run(df, prompt)\n",
    "    \n",
    "    # Mostrar la respuesta (si es un enlace a la imagen o algún otro resultado)\n",
    "    print(f\"Imagen generada para {row['Profesión']} con experiencia en {row['Experiencia']}: {response}\")"
   ]
  },
  {
   "cell_type": "code",
   "execution_count": null,
   "id": "4668c914-0d13-4763-9e76-6fc811f14397",
   "metadata": {},
   "outputs": [],
   "source": []
  }
 ],
 "metadata": {
  "kernelspec": {
   "display_name": "Python 3 (ipykernel)",
   "language": "python",
   "name": "python3"
  },
  "language_info": {
   "codemirror_mode": {
    "name": "ipython",
    "version": 3
   },
   "file_extension": ".py",
   "mimetype": "text/x-python",
   "name": "python",
   "nbconvert_exporter": "python",
   "pygments_lexer": "ipython3",
   "version": "3.10.14"
  }
 },
 "nbformat": 4,
 "nbformat_minor": 5
}
