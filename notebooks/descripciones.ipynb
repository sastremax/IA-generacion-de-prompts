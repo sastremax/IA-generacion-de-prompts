{
 "cells": [
  {
   "cell_type": "code",
   "execution_count": 4,
   "id": "61b83150-3bff-4608-843a-a5fcbc58eea9",
   "metadata": {},
   "outputs": [],
   "source": [
    "import openai\n",
    "import pandas as pd\n",
    "openai.api_key ='xxxxxxxxxxxxxxxxxxxxxxxxxxxxxxx'\n",
    "descripciones = []"
   ]
  },
  {
   "cell_type": "code",
   "execution_count": 6,
   "id": "97f9ed6a-426d-463e-8eaf-34425e2a9c97",
   "metadata": {},
   "outputs": [
    {
     "name": "stdout",
     "output_type": "stream",
     "text": [
      "¿Qué tipo de profesional de la salud estás buscando? (por ejemplo, psicóloga, psicopedagoga, fonoaudióloga, terapista ocupacional)  psicóloga\n",
      "¿Qué tipo de experiencia es relevante para el puesto? (por ejemplo, experiencia en autismo)  experiencia en tcc\n"
     ]
    },
    {
     "name": "stdout",
     "output_type": "stream",
     "text": [
      "Prompt creado para la descripción de empleo: Generar una descripción de empleo para un puesto de psicóloga en un consultorio médico. El profesional debe tener experiencia en tcc. La descripción debe ser atractiva, inclusiva y detallada, destacando la importancia de la especialización en terapia cognitiva conductual. También se deben mencionar los beneficios del puesto y el impacto positivo en la vida de los niños con autismo y sus familias.\n",
      "Descripción de empleo generada:\n",
      "¡Claro! Aquí tienes una descripción de empleo para el puesto de psicóloga especializada en terapia cognitiva conductual en un consultorio médico:\n",
      "\n",
      "---\n",
      "\n",
      "**Descripción del puesto: Psicóloga especializada en Terapia Cognitiva Conductual**\n",
      "\n",
      "En nuestro consultorio médico, buscamos incorporar a nuestro talentoso equipo a una psicóloga altamente cualificada y especializada en Terapia Cognitiva Conductual (TCC), con amplia experiencia en el campo. Esta posición es fundamental para brindar un apoyo integral y personalizado a nuestros pacientes, en especial a niños con autismo y sus familias.\n",
      "\n",
      "**Responsabilidades principales:**\n",
      "- Realizar evaluaciones psicológicas exhaustivas y desarrollar planes de tratamiento individualizados.\n",
      "- Implementar sesiones de terapia cognitiva conductual, ofreciendo herramientas y estrategias efectivas para afrontar desafíos emocionales y conductuales.\n",
      "- Colaborar estrechamente con el equipo médico y otros profesionales de la salud para garantizar una atención integral y coordinada.\n",
      "- Participar en actividades de sensibilización\n"
     ]
    },
    {
     "name": "stdout",
     "output_type": "stream",
     "text": [
      "¿Deseas generar otra descripción? (s/n):  s\n",
      "¿Qué tipo de profesional de la salud estás buscando? (por ejemplo, psicóloga, psicopedagoga, fonoaudióloga, terapista ocupacional)  psicóloga\n",
      "¿Qué tipo de experiencia es relevante para el puesto? (por ejemplo, experiencia en autismo)  experiencia con niños\n"
     ]
    },
    {
     "name": "stdout",
     "output_type": "stream",
     "text": [
      "Prompt creado para la descripción de empleo: Generar una descripción de empleo para un puesto de psicóloga en un consultorio médico. El profesional debe tener experiencia con niños. La descripción debe ser atractiva, inclusiva y detallada, destacando la importancia de la especialización en terapia cognitiva conductual. También se deben mencionar los beneficios del puesto y el impacto positivo en la vida de los niños con autismo y sus familias.\n",
      "Descripción de empleo generada:\n",
      "¡Claro! Aquí tienes una propuesta de descripción de empleo:\n",
      "\n",
      "---\n",
      "\n",
      "**Descripción del empleo: Psicóloga especializada en terapia cognitiva conductual para niños con autismo**\n",
      "\n",
      "**Descripción:**\n",
      "En nuestro consultorio médico, estamos en la búsqueda de una psicóloga con amplia experiencia en trabajar con niños, especialmente aquellos que presentan autismo. Buscamos a un profesional dedicado, apasionado y empático, que entienda la importancia de la terapia cognitiva conductual en el tratamiento y desarrollo de habilidades de estos niños.\n",
      "\n",
      "**Responsabilidades:**\n",
      "- Realizar evaluaciones psicológicas completas para niños con autismo.\n",
      "- Diseñar e implementar intervenciones basadas en la terapia cognitiva conductual.\n",
      "- Colaborar estrechamente con el equipo interdisciplinario para garantizar un abordaje integral y coordinado.\n",
      "- Brindar orientación y apoyo a las familias en el manejo de las necesidades emocionales y conductuales de sus hijos.\n",
      "- Mantener registros precisos y actualizados del progreso de cada paciente.\n",
      "\n",
      "**\n"
     ]
    },
    {
     "name": "stdout",
     "output_type": "stream",
     "text": [
      "¿Deseas generar otra descripción? (s/n):  s\n",
      "¿Qué tipo de profesional de la salud estás buscando? (por ejemplo, psicóloga, psicopedagoga, fonoaudióloga, terapista ocupacional)  fonoaudióloga\n",
      "¿Qué tipo de experiencia es relevante para el puesto? (por ejemplo, experiencia en autismo)  experiencia en neurolinguistica\n"
     ]
    },
    {
     "name": "stdout",
     "output_type": "stream",
     "text": [
      "Prompt creado para la descripción de empleo: Generar una descripción de empleo para un puesto de fonoaudióloga en un consultorio médico. El profesional debe tener experiencia en neurolinguistica. La descripción debe ser atractiva, inclusiva y detallada, destacando la importancia de la especialización en terapia cognitiva conductual. También se deben mencionar los beneficios del puesto y el impacto positivo en la vida de los niños con autismo y sus familias.\n",
      "Descripción de empleo generada:\n",
      "¡Claro! aquí tienes una descripción de empleo para el puesto de fonoaudióloga en un consultorio médico:\n",
      "\n",
      "---\n",
      "\n",
      "**Descripción del puesto: Fonoaudióloga especializada en Neurolingüística**\n",
      "\n",
      "¡Únete a nuestro equipo como fonoaudióloga especializada en Neurolingüística y forma parte de la transformación positiva en la vida de niños con autismo y sus familias!\n",
      "\n",
      "**Descripción de la posición:**\n",
      "\n",
      "Estamos en búsqueda de una fonoaudióloga altamente cualificada y apasionada por su trabajo, con experiencia en Neurolingüística y especialización en terapia cognitiva conductual. Tu rol en nuestro consultorio médico será fundamental, ya que serás responsable de diagnosticar, evaluar y diseñar planes de tratamiento personalizados para pacientes con trastornos de la comunicación, con un enfoque especial en niños con autismo.\n",
      "\n",
      "**Responsabilidades:**\n",
      "\n",
      "- Diagnosticar y evaluar trastornos del habla, lenguaje y comunicación en niños con autismo.\n",
      "- Diseñar e implementar planes de tratamiento basados en terapia cogn\n"
     ]
    },
    {
     "name": "stdout",
     "output_type": "stream",
     "text": [
      "¿Deseas generar otra descripción? (s/n):  s\n",
      "¿Qué tipo de profesional de la salud estás buscando? (por ejemplo, psicóloga, psicopedagoga, fonoaudióloga, terapista ocupacional)  terapista ocupacional\n",
      "¿Qué tipo de experiencia es relevante para el puesto? (por ejemplo, experiencia en autismo)  que trabaje lo sensorial\n"
     ]
    },
    {
     "name": "stdout",
     "output_type": "stream",
     "text": [
      "Prompt creado para la descripción de empleo: Generar una descripción de empleo para un puesto de terapista ocupacional en un consultorio médico. El profesional debe tener que trabaje lo sensorial. La descripción debe ser atractiva, inclusiva y detallada, destacando la importancia de la especialización en terapia cognitiva conductual. También se deben mencionar los beneficios del puesto y el impacto positivo en la vida de los niños con autismo y sus familias.\n",
      "Descripción de empleo generada:\n",
      "¡Claro! A continuación te presento una descripción de empleo para un puesto de terapista ocupacional en un consultorio médico:\n",
      "\n",
      "---\n",
      "\n",
      "**Terapista Ocupacional Especializado en Trabajo Sensorial y Terapia Cognitiva Conductual**\n",
      "\n",
      "En nuestro consultorio médico, estamos en busca de un terapista ocupacional especializado en trabajo sensorial y terapia cognitiva conductual para unirse a nuestro equipo dedicado a mejorar la calidad de vida de niños con autismo y sus familias.\n",
      "\n",
      "**Descripción del puesto:**\n",
      "- Diseñar e implementar programas de intervención ocupacional que se enfoquen en el trabajo sensorial y la terapia cognitiva conductual para niños con autismo.\n",
      "- Realizar evaluaciones exhaustivas para identificar las necesidades individuales de cada niño y desarrollar planes de tratamiento personalizados.\n",
      "- Colaborar estrechamente con otros profesionales de la salud, incluyendo psicólogos y terapeutas del lenguaje, para brindar un enfoque integral en el cuidado de los niños.\n",
      "- Proporcionar orientación a las familias sobre estr\n"
     ]
    },
    {
     "name": "stdout",
     "output_type": "stream",
     "text": [
      "¿Deseas generar otra descripción? (s/n):  s\n",
      "¿Qué tipo de profesional de la salud estás buscando? (por ejemplo, psicóloga, psicopedagoga, fonoaudióloga, terapista ocupacional)  psicóloga\n",
      "¿Qué tipo de experiencia es relevante para el puesto? (por ejemplo, experiencia en autismo)  que trabaje con pictogramas\n"
     ]
    },
    {
     "name": "stdout",
     "output_type": "stream",
     "text": [
      "Prompt creado para la descripción de empleo: Generar una descripción de empleo para un puesto de psicóloga en un consultorio médico. El profesional debe tener que trabaje con pictogramas. La descripción debe ser atractiva, inclusiva y detallada, destacando la importancia de la especialización en terapia cognitiva conductual. También se deben mencionar los beneficios del puesto y el impacto positivo en la vida de los niños con autismo y sus familias.\n",
      "Descripción de empleo generada:\n",
      "¡Claro! Aquí tienes la descripción del puesto de psicóloga en un consultorio médico:\n",
      "\n",
      "---\n",
      "\n",
      "**Descripción del Puesto: Psicóloga Especializada en Terapia Cognitiva Conductual con Pictogramas**\n",
      "\n",
      "En nuestro consultorio médico, buscamos incorporar a nuestro equipo a una psicóloga especializada en terapia cognitiva conductual con experiencia en el uso de pictogramas. Este puesto es fundamental para brindar un servicio integral y personalizado a niños con autismo y sus familias, mejorando significativamente su calidad de vida y bienestar emocional.\n",
      "\n",
      "**Responsabilidades:**\n",
      "- Realizar evaluaciones psicológicas detalladas utilizando pictogramas para facilitar la comunicación con los pacientes.\n",
      "- Diseñar e implementar planes de intervención basados en terapia cognitiva conductual, adaptados a las necesidades específicas de cada niño con autismo.\n",
      "- Trabajar de manera colaborativa con otros profesionales de la salud para garantizar un enfoque multidisciplinario en el tratamiento.\n",
      "- Brindar orientación y apoyo a las familias\n"
     ]
    },
    {
     "name": "stdout",
     "output_type": "stream",
     "text": [
      "¿Deseas generar otra descripción? (s/n):  n\n"
     ]
    },
    {
     "name": "stdout",
     "output_type": "stream",
     "text": [
      "Dataset creado:\n",
      "               Profesión                      Experiencia  \\\n",
      "0              psicóloga               experiencia en tcc   \n",
      "1              psicóloga            experiencia con niños   \n",
      "2          fonoaudióloga  experiencia en neurolinguistica   \n",
      "3  terapista ocupacional         que trabaje lo sensorial   \n",
      "4              psicóloga      que trabaje con pictogramas   \n",
      "\n",
      "                                         Descripción  \n",
      "0  ¡Claro! Aquí tienes una descripción de empleo ...  \n",
      "1  ¡Claro! Aquí tienes una propuesta de descripci...  \n",
      "2  ¡Claro! aquí tienes una descripción de empleo ...  \n",
      "3  ¡Claro! A continuación te presento una descrip...  \n",
      "4  ¡Claro! Aquí tienes la descripción del puesto ...  \n"
     ]
    }
   ],
   "source": [
    "def obtener_datos_usuario():\n",
    "    profesion = input(\"¿Qué tipo de profesional de la salud estás buscando? (por ejemplo, psicóloga, psicopedagoga, fonoaudióloga, terapista ocupacional) \")\n",
    "    experiencia = input(\"¿Qué tipo de experiencia es relevante para el puesto? (por ejemplo, experiencia en autismo) \")\n",
    "    if profesion.lower() == 'esc':\n",
    "        return None, None\n",
    "    return profesion, experiencia\n",
    "\n",
    "# Función para crear el prompt de la descripción\n",
    "def crear_prompt_descripcion(profesion, experiencia):\n",
    "    prompt = (\n",
    "        f\"Generar una descripción de empleo para un puesto de {profesion} en un consultorio médico. \"\n",
    "        f\"El profesional debe tener {experiencia}. \"\n",
    "        f\"La descripción debe ser atractiva, inclusiva y detallada, destacando la importancia de la especialización \"\n",
    "        f\"en terapia cognitiva conductual. También se deben mencionar los beneficios del puesto y el impacto positivo \"\n",
    "        f\"en la vida de los niños con autismo y sus familias.\"\n",
    "    )\n",
    "    return prompt\n",
    "\n",
    "# Función para generar la descripción a través de la API de OpenAI\n",
    "def generar_descripcion(prompt):\n",
    "    try:\n",
    "        response = openai.ChatCompletion.create(\n",
    "            model=\"gpt-3.5-turbo\",\n",
    "            messages=[\n",
    "                {\"role\": \"system\", \"content\": \"System message introducing the chat\"},\n",
    "                {\"role\": \"user\", \"content\": prompt}\n",
    "            ],\n",
    "            max_tokens=250\n",
    "        )\n",
    "        return response['choices'][0]['message']['content']\n",
    "    except openai.error.OpenAIError as e:\n",
    "        print(\"Error al generar la descripción:\", e)\n",
    "        return None\n",
    "\n",
    "# Bucle para generar las descripciones y guardarlas en el dataset\n",
    "while True:\n",
    "    # Paso 1: Obtener datos del usuario\n",
    "    profesion, experiencia = obtener_datos_usuario()\n",
    "    if profesion is None:\n",
    "        print(\"Saliendo del programa...\")\n",
    "        break\n",
    "    \n",
    "    # Paso 2: Crear el prompt para la descripción de empleo\n",
    "    prompt_descripcion = crear_prompt_descripcion(profesion, experiencia)\n",
    "    print(\"Prompt creado para la descripción de empleo:\", prompt_descripcion)\n",
    "    \n",
    "    # Paso 3: Generar la descripción de empleo\n",
    "    descripcion_empleo = generar_descripcion(prompt_descripcion)\n",
    "    if descripcion_empleo:\n",
    "        print(\"Descripción de empleo generada:\")\n",
    "        print(descripcion_empleo)\n",
    "        \n",
    "        # Paso 4: Agregar la descripción al dataset\n",
    "        descripciones.append({\n",
    "            \"Profesión\": profesion,\n",
    "            \"Experiencia\": experiencia,\n",
    "            \"Descripción\": descripcion_empleo\n",
    "        })\n",
    "        \n",
    "    # Preguntar si desea continuar\n",
    "    continuar = input(\"¿Deseas generar otra descripción? (s/n): \")\n",
    "    if continuar.lower() != 's':\n",
    "        break\n",
    "\n",
    "# Crear un DataFrame con las descripciones recolectadas\n",
    "df = pd.DataFrame(descripciones)\n",
    "\n",
    "# Guardar el DataFrame en un archivo CSV (opcional)\n",
    "df.to_csv(\"descripciones_empleo.csv\", index=False)\n",
    "\n",
    "print(\"Dataset creado:\")\n",
    "print(df)"
   ]
  },
  {
   "cell_type": "code",
   "execution_count": null,
   "id": "42e66374-20c7-47f1-915a-b2de760cf103",
   "metadata": {},
   "outputs": [],
   "source": []
  }
 ],
 "metadata": {
  "kernelspec": {
   "display_name": "Python 3 (ipykernel)",
   "language": "python",
   "name": "python3"
  },
  "language_info": {
   "codemirror_mode": {
    "name": "ipython",
    "version": 3
   },
   "file_extension": ".py",
   "mimetype": "text/x-python",
   "name": "python",
   "nbconvert_exporter": "python",
   "pygments_lexer": "ipython3",
   "version": "3.10.14"
  }
 },
 "nbformat": 4,
 "nbformat_minor": 5
}
