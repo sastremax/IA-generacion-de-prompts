{
 "cells": [
  {
   "cell_type": "code",
   "execution_count": 2,
   "id": "cf5c154f-1414-4b50-b2e0-78fc5c8548e9",
   "metadata": {},
   "outputs": [
    {
     "name": "stdout",
     "output_type": "stream",
     "text": [
      "Por favor, describe cómo te sientes o lo que estás experimentando en tus propias palabras:\n"
     ]
    },
    {
     "name": "stdout",
     "output_type": "stream",
     "text": [
      " emocionado, nervisioso, ansioso y vital\n"
     ]
    },
    {
     "name": "stdout",
     "output_type": "stream",
     "text": [
      "El sentimiento o estado de ánimo que estás experimentando es: El texto transmite una mezcla de emociones positivas y negativas. \"Emocionado\" y \"vital\" sugieren entusiasmo y energía positiva, mientras que \"nervioso\" y \"ansioso\" indican un estado de preocupación o inquietud. En general, parece que la persona experimenta una combinación de emociones intensas, con un enfoque más positivo en la excitación y vitalidad.\n"
     ]
    }
   ],
   "source": [
    "import openai\n",
    "\n",
    "openai.api_key = 'xxxxxxxxxxxxxxxxxxxxxxxxxxxxxxxxx'\n",
    "\n",
    "def analyze_emotion(description):\n",
    "    response = openai.ChatCompletion.create(\n",
    "        model=\"gpt-3.5-turbo\",\n",
    "        messages=[\n",
    "            {\"role\": \"system\", \"content\": \"You are an emotional analysis assistant.\"},\n",
    "            {\"role\": \"user\", \"content\": f\"Por favor, analiza el siguiente texto para determinar el sentimiento o estado de ánimo: \\n\\nTexto: {description}\"}\n",
    "        ],\n",
    "        max_tokens=100,\n",
    "        temperature=0.7\n",
    "    )\n",
    "    return response.choices[0].message['content'].strip()\n",
    "\n",
    "# Pregunta al usuario sobre sus sentimientos\n",
    "print(\"Por favor, describe cómo te sientes o lo que estás experimentando en tus propias palabras:\")\n",
    "\n",
    "# Aquí puedes ingresar el texto que describe tus sentimientos\n",
    "user_description = input()\n",
    "\n",
    "# Analizar los sentimientos basados en la descripción proporcionada\n",
    "emotion = analyze_emotion(user_description)\n",
    "print(f\"El sentimiento o estado de ánimo que estás experimentando es: {emotion}\")\n",
    "\n",
    "\n"
   ]
  },
  {
   "cell_type": "code",
   "execution_count": null,
   "id": "c1a93ec8-4d8e-4eb9-bc52-f560bba91e72",
   "metadata": {},
   "outputs": [],
   "source": []
  }
 ],
 "metadata": {
  "kernelspec": {
   "display_name": "Python 3 (ipykernel)",
   "language": "python",
   "name": "python3"
  },
  "language_info": {
   "codemirror_mode": {
    "name": "ipython",
    "version": 3
   },
   "file_extension": ".py",
   "mimetype": "text/x-python",
   "name": "python",
   "nbconvert_exporter": "python",
   "pygments_lexer": "ipython3",
   "version": "3.10.14"
  }
 },
 "nbformat": 4,
 "nbformat_minor": 5
}
