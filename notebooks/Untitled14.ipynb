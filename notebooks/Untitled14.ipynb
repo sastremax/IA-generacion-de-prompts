{
 "cells": [
  {
   "cell_type": "code",
   "execution_count": 9,
   "id": "28a08836-ec1e-4382-9098-f9dfe5313660",
   "metadata": {},
   "outputs": [],
   "source": [
    "import openai \n",
    "openai.api_key = \"xxxxxxxxxxxxxxxxxxxxxxxxxxxxxxxxxxxxxxx\""
   ]
  },
  {
   "cell_type": "code",
   "execution_count": 10,
   "id": "719df301-19ee-41d1-b53c-bc2f467faf15",
   "metadata": {},
   "outputs": [],
   "source": [
    "def obtener_datos_usuario():\n",
    "    profesion = input(\"¿Qué tipo de profesional de la salud estás buscando? (por ejemplo, psicóloga, psicopedagoga, fonoaudióloga, terapista ocupacional) \")\n",
    "    experiencia = input(\"¿Qué tipo de experiencia es relevante para el puesto? (por ejemplo, experiencia en autismo, terapia cognitiva conductual) \")\n",
    "    if profesion.lower() == 'esc':\n",
    "        return None, None\n",
    "    return profesion, experiencia"
   ]
  },
  {
   "cell_type": "code",
   "execution_count": 11,
   "id": "61086df1-6ef6-4d5f-9a19-826afbcad916",
   "metadata": {},
   "outputs": [],
   "source": [
    "def crear_prompt_descripcion(profesion, experiencia):\n",
    "    prompt = (\n",
    "        f\"Generar una descripción de empleo para un puesto de {profesion} en un consultorio médico. \"\n",
    "        f\"El profesional debe tener {experiencia}. \"\n",
    "        f\"La descripción debe ser atractiva, inclusiva y detallada, destacando la importancia de la especialización \"\n",
    "        f\"en terapia cognitiva conductual. También se deben mencionar los beneficios del puesto y el impacto positivo \"\n",
    "        f\"en la vida de los niños con autismo y sus familias.\"\n",
    "    )\n",
    "    return prompt"
   ]
  },
  {
   "cell_type": "code",
   "execution_count": 12,
   "id": "b10c4539-2857-4d68-a16c-a63f68a92aec",
   "metadata": {},
   "outputs": [],
   "source": [
    "def generar_descripcion(prompt):\n",
    "    try:\n",
    "        response = openai.ChatCompletion.create(\n",
    "            model=\"gpt-3.5-turbo\",\n",
    "            messages=[\n",
    "                {\"role\": \"system\", \"content\": \"System message introducing the chat\"},\n",
    "                {\"role\": \"user\", \"content\": prompt}\n",
    "            ],\n",
    "            max_tokens=250\n",
    "        )\n",
    "        return response['choices'][0]['message']['content']\n",
    "    except openai.error.OpenAIError as e:\n",
    "        print(\"Error al generar la descripción:\", e)\n",
    "        return None"
   ]
  },
  {
   "cell_type": "code",
   "execution_count": null,
   "id": "7b2228fe-3a81-44b5-a837-84a251d12e8b",
   "metadata": {},
   "outputs": [
    {
     "name": "stdout",
     "output_type": "stream",
     "text": [
      "¿Qué tipo de profesional de la salud estás buscando? (por ejemplo, psicóloga, psicopedagoga, fonoaudióloga, terapista ocupacional)  terapista ocupacional\n",
      "¿Qué tipo de experiencia es relevante para el puesto? (por ejemplo, experiencia en autismo, terapia cognitiva conductual)  terapia cognitiva conductual\n"
     ]
    },
    {
     "name": "stdout",
     "output_type": "stream",
     "text": [
      "Prompt creado para la descripción de empleo: Generar una descripción de empleo para un puesto de terapista ocupacional en un consultorio médico. El profesional debe tener terapia cognitiva conductual. La descripción debe ser atractiva, inclusiva y detallada, destacando la importancia de la especialización en terapia cognitiva conductual. También se deben mencionar los beneficios del puesto y el impacto positivo en la vida de los niños con autismo y sus familias.\n",
      "Descripción de empleo generada:\n",
      "¡Claro, puedo ayudarte con eso! Aquí tienes una descripción de empleo para un puesto de terapeuta ocupacional en un consultorio médico, especializado en terapia cognitiva conductual:\n",
      "\n",
      "---\n",
      "\n",
      "**Descripción del puesto: Terapeuta Ocupacional con Especialización en Terapia Cognitiva Conductual**\n",
      "\n",
      "En nuestro consultorio médico, estamos en busca de un apasionado y dedicado Terapeuta Ocupacional especializado en Terapia Cognitiva Conductual para unirse a nuestro equipo. Como terapeuta ocupacional, tendrás la oportunidad de trabajar con niños con autismo y sus familias, utilizando tus habilidades y conocimientos en terapia cognitiva conductual para brindar intervenciones personalizadas y de alta calidad.\n",
      "\n",
      "**Responsabilidades:**\n",
      "- Evaluar las necesidades individuales de cada niño y diseñar planes de intervención basados en la terapia cognitiva conductual.\n",
      "- Implementar sesiones terapéuticas efectivas que promuevan el desarrollo cognitivo, emocional y social de los niños con autismo.\n",
      "- Colaborar estrechamente con otros profes\n"
     ]
    },
    {
     "name": "stdout",
     "output_type": "stream",
     "text": [
      "¿Qué tipo de profesional de la salud estás buscando? (por ejemplo, psicóloga, psicopedagoga, fonoaudióloga, terapista ocupacional)  psicóloga\n",
      "¿Qué tipo de experiencia es relevante para el puesto? (por ejemplo, experiencia en autismo, terapia cognitiva conductual)  experiencia en autismo\n"
     ]
    },
    {
     "name": "stdout",
     "output_type": "stream",
     "text": [
      "Prompt creado para la descripción de empleo: Generar una descripción de empleo para un puesto de psicóloga en un consultorio médico. El profesional debe tener experiencia en autismo. La descripción debe ser atractiva, inclusiva y detallada, destacando la importancia de la especialización en terapia cognitiva conductual. También se deben mencionar los beneficios del puesto y el impacto positivo en la vida de los niños con autismo y sus familias.\n",
      "Descripción de empleo generada:\n",
      "¡Por supuesto! Aquí tienes una descripción de empleo para el puesto de psicóloga en un consultorio médico especializado en autismo:\n",
      "\n",
      "---\n",
      "\n",
      "**Descripción del empleo: Psicóloga especializada en Autismo**\n",
      "\n",
      "En nuestro consultorio médico buscamos a una psicóloga apasionada y comprometida con la atención integral de niños con autismo. Como psicóloga especializada en autismo, tendrás la oportunidad de trabajar en un entorno colaborativo y en constante aprendizaje, brindando un impacto significativo en la vida de los niños con autismo y sus familias.\n",
      "\n",
      "**Responsabilidades:**\n",
      "\n",
      "- Realizar evaluaciones exhaustivas para diagnosticar el trastorno del espectro autista y desarrollar planes de tratamiento personalizados.\n",
      "- Implementar terapias basadas en la terapia cognitiva conductual, adaptadas a las necesidades individuales de cada niño.\n",
      "- Facilitar sesiones de terapia individual y grupal para mejorar las habilidades sociales, emocionales y de comunicación de los niños con autismo.\n",
      "- Colaborar estrechamente con el equipo\n"
     ]
    }
   ],
   "source": [
    "while True:\n",
    "    # Paso 1: Obtener datos del usuario\n",
    "    profesion, experiencia = obtener_datos_usuario()\n",
    "    if profesion is None:\n",
    "        print(\"Saliendo del programa...\")\n",
    "        break\n",
    "\n",
    "    # Paso 2: Crear el prompt para la descripción de empleo\n",
    "    prompt_descripcion = crear_prompt_descripcion(profesion, experiencia)\n",
    "    print(\"Prompt creado para la descripción de empleo:\", prompt_descripcion)\n",
    "\n",
    "    # Paso 3: Generar la descripción de empleo\n",
    "    descripcion_empleo = generar_descripcion(prompt_descripcion)\n",
    "    if descripcion_empleo:\n",
    "        print(\"Descripción de empleo generada:\")\n",
    "        print(descripcion_empleo)"
   ]
  },
  {
   "cell_type": "code",
   "execution_count": null,
   "id": "3bdcdc50-e29b-40ea-bb39-80e2e0788680",
   "metadata": {},
   "outputs": [],
   "source": []
  }
 ],
 "metadata": {
  "kernelspec": {
   "display_name": "Python 3 (ipykernel)",
   "language": "python",
   "name": "python3"
  },
  "language_info": {
   "codemirror_mode": {
    "name": "ipython",
    "version": 3
   },
   "file_extension": ".py",
   "mimetype": "text/x-python",
   "name": "python",
   "nbconvert_exporter": "python",
   "pygments_lexer": "ipython3",
   "version": "3.10.14"
  }
 },
 "nbformat": 4,
 "nbformat_minor": 5
}
