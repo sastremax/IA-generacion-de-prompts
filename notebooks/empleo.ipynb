{
 "cells": [
  {
   "cell_type": "code",
   "execution_count": 1,
   "id": "7a04ea4c-a43e-4eef-b321-3e41b2d74cbf",
   "metadata": {},
   "outputs": [
    {
     "name": "stdout",
     "output_type": "stream",
     "text": [
      "Requirement already satisfied: openai==0.28 in b:\\miniconda\\envs\\mi_entorno\\lib\\site-packages (0.28.0)\n",
      "Requirement already satisfied: requests>=2.20 in b:\\miniconda\\envs\\mi_entorno\\lib\\site-packages (from openai==0.28) (2.32.3)\n",
      "Requirement already satisfied: tqdm in b:\\miniconda\\envs\\mi_entorno\\lib\\site-packages (from openai==0.28) (4.66.5)\n",
      "Requirement already satisfied: aiohttp in b:\\miniconda\\envs\\mi_entorno\\lib\\site-packages (from openai==0.28) (3.10.3)\n",
      "Requirement already satisfied: charset-normalizer<4,>=2 in b:\\miniconda\\envs\\mi_entorno\\lib\\site-packages (from requests>=2.20->openai==0.28) (3.3.2)\n",
      "Requirement already satisfied: idna<4,>=2.5 in b:\\miniconda\\envs\\mi_entorno\\lib\\site-packages (from requests>=2.20->openai==0.28) (3.7)\n",
      "Requirement already satisfied: urllib3<3,>=1.21.1 in b:\\miniconda\\envs\\mi_entorno\\lib\\site-packages (from requests>=2.20->openai==0.28) (2.2.2)\n",
      "Requirement already satisfied: certifi>=2017.4.17 in b:\\miniconda\\envs\\mi_entorno\\lib\\site-packages (from requests>=2.20->openai==0.28) (2024.7.4)\n",
      "Requirement already satisfied: aiohappyeyeballs>=2.3.0 in b:\\miniconda\\envs\\mi_entorno\\lib\\site-packages (from aiohttp->openai==0.28) (2.3.5)\n",
      "Requirement already satisfied: aiosignal>=1.1.2 in b:\\miniconda\\envs\\mi_entorno\\lib\\site-packages (from aiohttp->openai==0.28) (1.3.1)\n",
      "Requirement already satisfied: attrs>=17.3.0 in b:\\miniconda\\envs\\mi_entorno\\lib\\site-packages (from aiohttp->openai==0.28) (23.1.0)\n",
      "Requirement already satisfied: frozenlist>=1.1.1 in b:\\miniconda\\envs\\mi_entorno\\lib\\site-packages (from aiohttp->openai==0.28) (1.4.1)\n",
      "Requirement already satisfied: multidict<7.0,>=4.5 in b:\\miniconda\\envs\\mi_entorno\\lib\\site-packages (from aiohttp->openai==0.28) (6.0.5)\n",
      "Requirement already satisfied: yarl<2.0,>=1.0 in b:\\miniconda\\envs\\mi_entorno\\lib\\site-packages (from aiohttp->openai==0.28) (1.9.4)\n",
      "Requirement already satisfied: async-timeout<5.0,>=4.0 in b:\\miniconda\\envs\\mi_entorno\\lib\\site-packages (from aiohttp->openai==0.28) (4.0.3)\n",
      "Requirement already satisfied: colorama in b:\\miniconda\\envs\\mi_entorno\\lib\\site-packages (from tqdm->openai==0.28) (0.4.6)\n"
     ]
    }
   ],
   "source": [
    "!pip install openai==0.28"
   ]
  },
  {
   "cell_type": "code",
   "execution_count": 5,
   "id": "d8257758-b234-4cb1-823f-e2d37651e070",
   "metadata": {},
   "outputs": [],
   "source": [
    "import openai\n",
    "\n",
    "openai.api_key = \"xxxxxxxxxxxxxxxxxxxxxxxxxxxxxxxxxxxx\""
   ]
  },
  {
   "cell_type": "code",
   "execution_count": null,
   "id": "3967932c-5af6-4c63-b436-1d064fce708f",
   "metadata": {},
   "outputs": [],
   "source": [
    "def obtener_datos_usuario():\n",
    "    profesion = input(\"¿Qué tipo de profesional de la salud estás buscando? (por ejemplo, psicóloga, psicopedagoga, fonoaudióloga, terapista ocupacional) \")\n",
    "    experiencia = input(\"¿Qué tipo de experiencia es relevante para el puesto? (por ejemplo, experiencia en autismo) \")\n",
    "    if profesion.lower() == 'esc':\n",
    "        return None, None\n",
    "    return profesion, experiencia\n",
    "\n",
    "\n",
    "def crear_prompt_descripcion(profesion, experiencia):\n",
    "    prompt = (\n",
    "        f\"Generar una descripción de empleo para un puesto de {profesion} en un consultorio médico. \"\n",
    "        f\"El profesional debe tener {experiencia}. \"\n",
    "        f\"La descripción debe ser atractiva, inclusiva y detallada, destacando la importancia de la especialización \"\n",
    "        f\"en terapia cognitiva conductual. También se deben mencionar los beneficios del puesto y el impacto positivo \"\n",
    "        f\"en la vida de los niños con autismo y sus familias.\"\n",
    "    )\n",
    "    return prompt\n",
    "\n",
    "\n",
    "def generar_descripcion(prompt):\n",
    "    try:\n",
    "        response = openai.ChatCompletion.create(\n",
    "            model=\"gpt-3.5-turbo\",\n",
    "            messages=[\n",
    "                {\"role\": \"system\", \"content\": \"System message introducing the chat\"},\n",
    "                {\"role\": \"user\", \"content\": prompt}\n",
    "            ],\n",
    "            max_tokens=250\n",
    "        )\n",
    "        return response['choices'][0]['message']['content']\n",
    "    except openai.error.OpenAIError as e:\n",
    "        print(\"Error al generar la descripción:\", e)\n",
    "        return None\n",
    "\n",
    "\n",
    "while True:\n",
    "    \n",
    "    profesion, experiencia = obtener_datos_usuario()\n",
    "    if profesion is None:\n",
    "        print(\"Saliendo del programa...\")\n",
    "        break\n",
    "    \n",
    "    \n",
    "    prompt_descripcion = crear_prompt_descripcion(profesion, experiencia)\n",
    "    print(\"Prompt creado para la descripción de empleo:\", prompt_descripcion)\n",
    "    \n",
    "    \n",
    "    descripcion_empleo = generar_descripcion(prompt_descripcion)\n",
    "    if descripcion_empleo:\n",
    "        print(\"Descripción de empleo generada:\")\n",
    "        print(descripcion_empleo)"
   ]
  },
  {
   "cell_type": "code",
   "execution_count": null,
   "id": "b98fee40-4c33-47c6-929c-19a5e01ce40e",
   "metadata": {},
   "outputs": [],
   "source": []
  }
 ],
 "metadata": {
  "kernelspec": {
   "display_name": "Python 3 (ipykernel)",
   "language": "python",
   "name": "python3"
  },
  "language_info": {
   "codemirror_mode": {
    "name": "ipython",
    "version": 3
   },
   "file_extension": ".py",
   "mimetype": "text/x-python",
   "name": "python",
   "nbconvert_exporter": "python",
   "pygments_lexer": "ipython3",
   "version": "3.10.14"
  }
 },
 "nbformat": 4,
 "nbformat_minor": 5
}
