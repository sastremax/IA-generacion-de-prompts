{
 "cells": [
  {
   "cell_type": "code",
   "execution_count": 15,
   "id": "0a35e5ea-4ef5-463f-a241-43f0e81e9db0",
   "metadata": {},
   "outputs": [],
   "source": [
    "import openai\n",
    "openai.api_key = \"xxxxxxxxxxxxxxxxxxxxxxxxxxxxxxxxxxxx\""
   ]
  },
  {
   "cell_type": "code",
   "execution_count": null,
   "id": "26dc7188-9416-4b4f-ae0c-574bb1f160e1",
   "metadata": {},
   "outputs": [
    {
     "name": "stdout",
     "output_type": "stream",
     "text": [
      "¿Cuál es tu nombre? (o escribe 'esc' para salir)  Maxi\n",
      "¿Cuántos años tienes?  36\n",
      "¿De que color es tu pelo  castaño\n",
      "¿De que trabajas  programador\n"
     ]
    },
    {
     "name": "stdout",
     "output_type": "stream",
     "text": [
      "Prompt creado para el avatar: Crea un avatar para una persona llamada Maxi, que tiene 36 años que tiene el pelo de color castaño y trabaja de programador  . El avatar debe reflejar su personalidad y cultura.\n",
      "URL del avatar generado: https://oaidalleapiprodscus.blob.core.windows.net/private/org-1RkNoNYKrzJcGjdXHfCRVYO0/user-K66xNqztzHge4crpA4Evdkve/img-1VWlSuhcYW14U6ru4gxVJ5Mx.png?st=2024-08-01T11%3A35%3A45Z&se=2024-08-01T13%3A35%3A45Z&sp=r&sv=2023-11-03&sr=b&rscd=inline&rsct=image/png&skoid=6aaadede-4fb3-4698-a8f6-684d7786b067&sktid=a48cca56-e6da-484e-a814-9c849652bcb3&skt=2024-07-31T15%3A07%3A53Z&ske=2024-08-01T15%3A07%3A53Z&sks=b&skv=2023-11-03&sig=VXc79yv4G9fCPfby/0qkFgOVX/YQIGTpeiW6FFL%2Bfm8%3D\n"
     ]
    },
    {
     "name": "stdout",
     "output_type": "stream",
     "text": [
      "¿Cuál es tu nombre? (o escribe 'esc' para salir)  Marcelo\n",
      "¿Cuántos años tienes?  102\n",
      "¿De que color es tu pelo  oscuro\n",
      "¿De que trabajas  programador\n"
     ]
    },
    {
     "name": "stdout",
     "output_type": "stream",
     "text": [
      "Prompt creado para el avatar: Crea un avatar para una persona llamada Marcelo, que tiene 102 años que tiene el pelo de color oscuro y trabaja de programador  . El avatar debe reflejar su personalidad y cultura.\n",
      "URL del avatar generado: https://oaidalleapiprodscus.blob.core.windows.net/private/org-1RkNoNYKrzJcGjdXHfCRVYO0/user-K66xNqztzHge4crpA4Evdkve/img-EcKhMzjeMgXeWwThUSeiTu4Q.png?st=2024-08-01T11%3A47%3A36Z&se=2024-08-01T13%3A47%3A36Z&sp=r&sv=2023-11-03&sr=b&rscd=inline&rsct=image/png&skoid=6aaadede-4fb3-4698-a8f6-684d7786b067&sktid=a48cca56-e6da-484e-a814-9c849652bcb3&skt=2024-07-31T21%3A30%3A46Z&ske=2024-08-01T21%3A30%3A46Z&sks=b&skv=2023-11-03&sig=RlGSAuGHo0ummbe%2BiwxBnTLV/8%2BevA9UNhP02sl/rXM%3D\n"
     ]
    }
   ],
   "source": [
    "\n",
    "\n",
    "\n",
    "\n",
    "def obtener_datos_usuario():\n",
    "    nombre = input(\"¿Cuál es tu nombre? (o escribe 'esc' para salir) \")\n",
    "    if nombre.lower() == 'esc':\n",
    "        return None, None, None\n",
    "    edad = input(\"¿Cuántos años tienes? \")\n",
    "    color = input(\"¿De que color es tu pelo \")\n",
    "    trabajo = input(\"¿De que trabajas \")\n",
    "    return nombre, edad, color, trabajo\n",
    "\n",
    "def crear_prompt_avatar(nombre, edad, color, trabajo):\n",
    "    prompt = (\n",
    "        f\"Crea un avatar para una persona llamada {nombre}, que tiene {edad} años \"\n",
    "        f\"que tiene el pelo de color {color} y trabaja de {trabajo}  . El avatar debe reflejar su \"\n",
    "        f\"personalidad y cultura.\"\n",
    "    )\n",
    "    return prompt\n",
    "\n",
    "def generar_avatar(prompt):\n",
    "    response = openai.Image.create(\n",
    "        prompt=prompt,\n",
    "        n=1,\n",
    "        size=\"512x512\"\n",
    "    )\n",
    "    return response['data'][0]['url']\n",
    "\n",
    "while True:\n",
    "    # Paso 1: Obtener datos del usuario\n",
    "    nombre, edad, color, trabajo = obtener_datos_usuario()\n",
    "    if nombre is None:\n",
    "        print(\"Saliendo del programa...\")\n",
    "        break\n",
    "\n",
    "    # Paso 2: Crear el prompt para el avatar\n",
    "    prompt_avatar = crear_prompt_avatar(nombre, edad, color, trabajo)\n",
    "    print(\"Prompt creado para el avatar:\", prompt_avatar)\n",
    "\n",
    "    # Paso 3: Generar el avatar\n",
    "    try:\n",
    "        url_avatar = generar_avatar(prompt_avatar)\n",
    "        print(\"URL del avatar generado:\", url_avatar)\n",
    "    except openai.error.OpenAIError as e:\n",
    "        print(f\"Error al generar el avatar: {e}\")\n"
   ]
  },
  {
   "cell_type": "code",
   "execution_count": null,
   "id": "25e35ade-010c-43ea-a1a4-4e5715e75030",
   "metadata": {},
   "outputs": [],
   "source": []
  }
 ],
 "metadata": {
  "kernelspec": {
   "display_name": "Python 3 (ipykernel)",
   "language": "python",
   "name": "python3"
  },
  "language_info": {
   "codemirror_mode": {
    "name": "ipython",
    "version": 3
   },
   "file_extension": ".py",
   "mimetype": "text/x-python",
   "name": "python",
   "nbconvert_exporter": "python",
   "pygments_lexer": "ipython3",
   "version": "3.10.14"
  }
 },
 "nbformat": 4,
 "nbformat_minor": 5
}
