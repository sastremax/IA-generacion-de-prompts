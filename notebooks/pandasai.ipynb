{
 "cells": [
  {
   "cell_type": "code",
   "execution_count": 1,
   "id": "d0605be0-367b-48d3-b814-b9439bb32819",
   "metadata": {},
   "outputs": [
    {
     "ename": "ImportError",
     "evalue": "cannot import name 'PandasAI' from 'pandasai' (B:\\miniconda\\envs\\proyecto\\lib\\site-packages\\pandasai\\__init__.py)",
     "output_type": "error",
     "traceback": [
      "\u001b[1;31m---------------------------------------------------------------------------\u001b[0m",
      "\u001b[1;31mImportError\u001b[0m                               Traceback (most recent call last)",
      "Cell \u001b[1;32mIn[1], line 1\u001b[0m\n\u001b[1;32m----> 1\u001b[0m \u001b[38;5;28;01mfrom\u001b[39;00m \u001b[38;5;21;01mpandasai\u001b[39;00m \u001b[38;5;28;01mimport\u001b[39;00m PandasAI\n\u001b[0;32m      2\u001b[0m \u001b[38;5;28;01mimport\u001b[39;00m \u001b[38;5;21;01mpandas\u001b[39;00m \u001b[38;5;28;01mas\u001b[39;00m \u001b[38;5;21;01mpd\u001b[39;00m\n\u001b[0;32m      4\u001b[0m \u001b[38;5;66;03m# Suponiendo que tienes un CSV con las descripciones generadas\u001b[39;00m\n",
      "\u001b[1;31mImportError\u001b[0m: cannot import name 'PandasAI' from 'pandasai' (B:\\miniconda\\envs\\proyecto\\lib\\site-packages\\pandasai\\__init__.py)"
     ]
    }
   ],
   "source": [
    "from pandasai import PandasAI\n",
    "import pandas as pd\n",
    "\n",
    "# Suponiendo que tienes un CSV con las descripciones generadas\n",
    "df = pd.read_csv('descripciones_empleo.csv')\n",
    "\n",
    "# Análisis de la descripción\n",
    "resultado = pandasai.run(df, \"¿Cuál de las descripciones de empleo parece más atractiva según la longitud y el lenguaje utilizado?\")\n",
    "print(resultado)"
   ]
  },
  {
   "cell_type": "code",
   "execution_count": null,
   "id": "d1045918-824e-42b1-a470-1c37d6095c58",
   "metadata": {},
   "outputs": [],
   "source": [
    "llm=OpenAI(api_token='xxxxxxxxxxxxxxxxxxxxxxxxxxxxxx')"
   ]
  },
  {
   "cell_type": "code",
   "execution_count": 2,
   "id": "5b62c206-56a1-4c27-8ab3-6214574f9320",
   "metadata": {},
   "outputs": [
    {
     "ename": "NameError",
     "evalue": "name 'PandasAI' is not defined",
     "output_type": "error",
     "traceback": [
      "\u001b[1;31m---------------------------------------------------------------------------\u001b[0m",
      "\u001b[1;31mNameError\u001b[0m                                 Traceback (most recent call last)",
      "Cell \u001b[1;32mIn[2], line 1\u001b[0m\n\u001b[1;32m----> 1\u001b[0m pandasai\u001b[38;5;241m=\u001b[39m\u001b[43mPandasAI\u001b[49m(llm)\n",
      "\u001b[1;31mNameError\u001b[0m: name 'PandasAI' is not defined"
     ]
    }
   ],
   "source": [
    "pandasai=PandasAI(llm)"
   ]
  },
  {
   "cell_type": "code",
   "execution_count": null,
   "id": "1a42a2d0-3e68-47a9-b0e9-9449b3cbec2a",
   "metadata": {},
   "outputs": [],
   "source": [
    "result = pandas_ai.run(df, \"Genera un resumen estadístico de los datos\")"
   ]
  }
 ],
 "metadata": {
  "kernelspec": {
   "display_name": "Python 3 (ipykernel)",
   "language": "python",
   "name": "python3"
  },
  "language_info": {
   "codemirror_mode": {
    "name": "ipython",
    "version": 3
   },
   "file_extension": ".py",
   "mimetype": "text/x-python",
   "name": "python",
   "nbconvert_exporter": "python",
   "pygments_lexer": "ipython3",
   "version": "3.9.19"
  }
 },
 "nbformat": 4,
 "nbformat_minor": 5
}
