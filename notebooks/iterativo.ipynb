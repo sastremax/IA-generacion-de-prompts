{
 "cells": [
  {
   "cell_type": "code",
   "execution_count": 7,
   "id": "0e992d86-975d-4d2d-9359-a682095474b4",
   "metadata": {},
   "outputs": [],
   "source": [
    "import pandas as pd"
   ]
  },
  {
   "cell_type": "code",
   "execution_count": 8,
   "id": "92485240-17a0-4d31-8691-eef3ee1309b2",
   "metadata": {},
   "outputs": [],
   "source": [
    "# Cargar el dataset\n",
    "paises = pd.read_csv('dataset_calidad_de_vida.csv')        "
   ]
  },
  {
   "cell_type": "code",
   "execution_count": 9,
   "id": "633ffa60-770e-44fb-b769-7c1de439d0d2",
   "metadata": {},
   "outputs": [],
   "source": [
    "# Primer prompt: Excluir países que comiencen con 'A' y ordenar por calidad de vida\n",
    "def primer_prompt():\n",
    "    print(\"1ra solicitud: Lista los países con el mejor índice de calidad de vida, excluyendo aquellos cuyos nombres comienzan con 'A'.\")\n",
    "    paisesFiltrados = paises[paises['País'].str[0] != 'A']\n",
    "    paisesMejorCalidad = paisesFiltrados.sort_values(by='Índice de calidad de vida', ascending=False)\n",
    "    print(\"Respuesta:\")\n",
    "    print(paisesMejorCalidad)\n",
    "    return paisesMejorCalidad  "
   ]
  },
  {
   "cell_type": "code",
   "execution_count": 10,
   "id": "83715ab6-f33b-4612-9361-d11b735c4dc9",
   "metadata": {},
   "outputs": [],
   "source": [
    "# Segundo prompt iterativo: Validar exclusión de países con 'A'\n",
    "def segundo_prompt(paisesMejorCalidad):\n",
    "    print(\"\\nPregunta iterativa: Verifica que no haya países que comiencen con 'A' en la lista resultante.\")\n",
    "    paises_incorrectos = paisesMejorCalidad[paisesMejorCalidad['País'].str[0] == 'A']\n",
    "    if not paises_incorrectos.empty:\n",
    "        print(\"Alerta: Hay países que comienzan con 'A' en la lista:\")\n",
    "        print(paises_incorrectos)\n",
    "    else:\n",
    "        print(\"Todos los países que comienzan con 'A' fueron correctamente excluidos.\") "
   ]
  },
  {
   "cell_type": "code",
   "execution_count": 11,
   "id": "54d8bfed-c5b4-4a33-a80e-ab155f47479b",
   "metadata": {},
   "outputs": [
    {
     "name": "stdout",
     "output_type": "stream",
     "text": [
      "Pregunta: Lista los países con el mejor índice de calidad de vida, excluyendo aquellos cuyos nombres comienzan con 'A'.\n",
      "Respuesta:\n",
      "          País  Cantidad de habitantes  Índice de calidad de vida\n",
      "13  Costa Rica               246367212                       9.15\n",
      "6         Perú               133310908                       9.10\n",
      "9    Guatemala                18646161                       8.45\n",
      "10        Cuba               134002149                       8.35\n",
      "7      Uruguay               156708946                       7.61\n",
      "1       Brasil               202175402                       7.59\n",
      "8    Venezuela                38511435                       4.91\n",
      "14   Nicaragua               173046872                       3.80\n",
      "2        Chile                79191392                       3.55\n",
      "12    Paraguay                89645984                       3.34\n",
      "3     Colombia                91106897                       1.40\n",
      "11     Bolivia               127408905                       0.96\n",
      "4      Ecuador                15585653                       0.66\n",
      "5       México               138436201                       0.64\n",
      "\n",
      "Pregunta iterativa: Verifica que no haya países que comiencen con 'A' en la lista resultante.\n",
      "Todos los países que comienzan con 'A' fueron correctamente excluidos.\n"
     ]
    }
   ],
   "source": [
    "# Ejecución del código\n",
    "paisesMejorCalidad = primer_prompt()\n",
    "segundo_prompt(paisesMejorCalidad)"
   ]
  },
  {
   "cell_type": "code",
   "execution_count": null,
   "id": "fd10fca5-6e87-4c3d-a64a-164a1ab8561a",
   "metadata": {},
   "outputs": [],
   "source": []
  }
 ],
 "metadata": {
  "kernelspec": {
   "display_name": "Python 3 (ipykernel)",
   "language": "python",
   "name": "python3"
  },
  "language_info": {
   "codemirror_mode": {
    "name": "ipython",
    "version": 3
   },
   "file_extension": ".py",
   "mimetype": "text/x-python",
   "name": "python",
   "nbconvert_exporter": "python",
   "pygments_lexer": "ipython3",
   "version": "3.10.14"
  }
 },
 "nbformat": 4,
 "nbformat_minor": 5
}
